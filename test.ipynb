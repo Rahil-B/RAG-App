{
 "cells": [
  {
   "cell_type": "code",
   "execution_count": 3,
   "metadata": {},
   "outputs": [],
   "source": [
    "import chromadb\n",
    "from config import CHROMA_DB_PATH, CHROMA_COLLECTION_NAME\n",
    "client = chromadb.PersistentClient(path=CHROMA_DB_PATH)\n",
    "collection = client.get_or_create_collection(\n",
    "    name=CHROMA_COLLECTION_NAME,\n",
    "    metadata={\"hnsw:space\": \"cosine\"}#{\"metric\": \"cosine\"}\n",
    ")"
   ]
  },
  {
   "cell_type": "code",
   "execution_count": 1,
   "metadata": {},
   "outputs": [],
   "source": [
    "from langchain_huggingface import HuggingFaceEmbeddings\n",
    "model=HuggingFaceEmbeddings(model_name=\"sentence-transformers/multi-qa-MiniLM-L6-cos-v1\")"
   ]
  },
  {
   "cell_type": "code",
   "execution_count": null,
   "metadata": {},
   "outputs": [],
   "source": [
    "query=\"modi schemes for navsari\""
   ]
  },
  {
   "cell_type": "code",
   "execution_count": null,
   "metadata": {},
   "outputs": [],
   "source": []
  },
  {
   "cell_type": "code",
   "execution_count": 23,
   "metadata": {},
   "outputs": [],
   "source": [
    "query_embedding=model.embed_query(query)\n",
    "results = collection.query(query_embeddings=[query_embedding], n_results=5)"
   ]
  },
  {
   "cell_type": "code",
   "execution_count": 6,
   "metadata": {},
   "outputs": [
    {
     "data": {
      "application/vnd.jupyter.widget-view+json": {
       "model_id": "b412431bb7744c24b2e02650a23dc084",
       "version_major": 2,
       "version_minor": 0
      },
      "text/plain": [
       "config.json:   0%|          | 0.00/794 [00:00<?, ?B/s]"
      ]
     },
     "metadata": {},
     "output_type": "display_data"
    },
    {
     "data": {
      "application/vnd.jupyter.widget-view+json": {
       "model_id": "742443bafed84e0da1eaf8810a684e53",
       "version_major": 2,
       "version_minor": 0
      },
      "text/plain": [
       "model.safetensors:   0%|          | 0.00/90.9M [00:00<?, ?B/s]"
      ]
     },
     "metadata": {},
     "output_type": "display_data"
    },
    {
     "data": {
      "application/vnd.jupyter.widget-view+json": {
       "model_id": "c96bc5d48831473ea026f94dc6a93b20",
       "version_major": 2,
       "version_minor": 0
      },
      "text/plain": [
       "tokenizer_config.json:   0%|          | 0.00/316 [00:00<?, ?B/s]"
      ]
     },
     "metadata": {},
     "output_type": "display_data"
    },
    {
     "data": {
      "application/vnd.jupyter.widget-view+json": {
       "model_id": "3ef2b2f587ba4e838fec7cb10d36a6d7",
       "version_major": 2,
       "version_minor": 0
      },
      "text/plain": [
       "vocab.txt:   0%|          | 0.00/232k [00:00<?, ?B/s]"
      ]
     },
     "metadata": {},
     "output_type": "display_data"
    },
    {
     "data": {
      "application/vnd.jupyter.widget-view+json": {
       "model_id": "b7f5ebc924bb4e10b84511f5d303fc62",
       "version_major": 2,
       "version_minor": 0
      },
      "text/plain": [
       "special_tokens_map.json:   0%|          | 0.00/112 [00:00<?, ?B/s]"
      ]
     },
     "metadata": {},
     "output_type": "display_data"
    }
   ],
   "source": [
    "from sentence_transformers import SentenceTransformer, CrossEncoder\n",
    "reranker = CrossEncoder(\"cross-encoder/ms-marco-MiniLM-L-6-v2\")"
   ]
  },
  {
   "cell_type": "code",
   "execution_count": 24,
   "metadata": {},
   "outputs": [
    {
     "data": {
      "text/plain": [
       "[[\"SizeAbcSmallAbcMediumAbcLargeSavePrintCommentSynopsisPrime Minister Narendra Modi's visit to Vantara highlighted his commitment to animal welfare. He interacted with endangered species like lemurs, flamingos, otters, pythons, orangutans, and a giant hippopotamus, reflecting the sanctuary's success in providing safe habitats for these creatures.ET SpecialPM Narendra Modi's visit to Vantara reflected his shared dedication to animal welfare and harmonious coexistence. During the visit, he encountered several rare species. Some images, of the Prime Minister exploring Vantara's wildlife.PM Modi nurtures endangered lemursET SpecialFacing the looming threat of extinction, these rare creatures have found a safe sanctuary in Anant Ambani’s Vantara. Here, they rest peacefully on PM Modi’s lap, reflecting a bond of trust and care.A different shade of Orange: Flamingos walk gracefully around PM ModiET SpecialPM Modi was thrilled to witness the flamboyance of flamingos as they gracefully walked\",\n",
       "  \"TrendsCanada NewsUK NewsUS NewsUAESaudi ArabiaBusinessWorld NewsMoreET ExplainsScienceSportsCompanyCorporate TrendsIndustryDecodedMorning Brief PodcastET EvokeEnvironmentVideosLatest NewsMost ReadMost SharedMost CommentedBusiness News›News›Company›Corporate Trends›Inside Anant Ambani’s Vantara: PM Narendra Modi’s journey through the world’s largest wildlife rescue & rehabilitation centre The Economic Times daily newspaper is available online now. Read Today's Paper Inside Anant Ambani’s Vantara: PM Narendra Modi’s journey through the world’s largest wildlife rescue & rehabilitation centreSECTIONSInside Anant Ambani’s Vantara: PM Narendra Modi’s journey through the world’s largest wildlife rescue & rehabilitation centreET SpecialLast Updated: Mar 04, 2025, 10:09:00 PM ISTRate StoryFollow usShareFont SizeAbcSmallAbcMediumAbcLargeSavePrintCommentSynopsisPrime Minister Narendra Modi's visit to Vantara highlighted his commitment to animal welfare. He interacted with endangered species like\",\n",
       "  \"Inside Anant Ambani’s Vantara: PM Narendra Modi’s journey through the world’s largest wildlife rescue & rehabilitation centre - The Economic TimesBenchmarks Nifty22,539.50202.21FEATURED FUNDS★★★★★Canara Robeco ELSS Tax Saver Regular - Growth5Y Return17.11 % Invest NowFEATURED FUNDS★★★★★HSBC Large Cap Fund Direct-Growth5Y Return15.69 % Invest NowEnter search text:NewsEnglish EditionEnglish Editionहिन्दीગુજરાતીमराठीবাংলাಕನ್ನಡമലയാളംதமிழ்తెలుగు | Today's ePaper My Watchlist SubscribeSign InHomeETPrimeMarketsMarket DataNewsIndustryRisePoliticsWealthMFTechCareersOpinionNRIPanacheLuxuryVideosMore MenuIndiaWeb StoriesEconomyAgricultureFinanceForeign TradeIndicatorsInfrastructurePolicyPoliticsNewsblogsElectionsAssembly ElectionsDelhiDefenceNationalInternationalIndustryInternationalNew ZealandGlobal TrendsCanada NewsUK NewsUS NewsUAESaudi ArabiaBusinessWorld NewsMoreET ExplainsScienceSportsCompanyCorporate TrendsIndustryDecodedMorning Brief PodcastET EvokeEnvironmentVideosLatest NewsMost\",\n",
       "  \"a bond of trust and care.A different shade of Orange: Flamingos walk gracefully around PM ModiET SpecialPM Modi was thrilled to witness the flamboyance of flamingos as they gracefully walked alongside him at Vantara. These flamingos were starving when Vantara rescued and offered them safe waters.Otters over the top!ET SpecialPM Modi at the giant otter habitat in Vantara where Baela is a mother of two otters named Kiran and Arjun. Some more glimpses from my visit to Vantara in Jamnagar. pic.twitter.com/QDkwLwdUod— Narendra Modi (@narendramodi) March 4, 2025 PM Modi visits the 'white beauty'Artificial Intelligence(AI)Java Programming with ChatGPT: Learn using Generative AIBy - Metla Sudha Sekhar, IT Specialist and DeveloperView Program Artificial Intelligence(AI)Basics of Generative AI: Unveiling Tomorrows InnovationsBy - Metla Sudha Sekhar, IT Specialist and DeveloperView Program Artificial Intelligence(AI)Generative AI for Dynamic Java Web Applications with ChatGPTBy - Metla Sudha\",\n",
       "  'can now subscribe to our Economic Times WhatsApp channel)Read More News onAnant Ambani VantaraPM Narendra Modi wildlife visitwildlife rescue and rehabilitationendangered lemursanimal welfare IndiaOtters in Vantara(Catch all the Business News, Breaking News, Budget 2025 Events and Latest News Updates on The Economic Times.) Subscribe to The Economic Times Prime and read the ET ePaper online....moreless(You can now subscribe to our Economic Times WhatsApp channel)Read More News onAnant Ambani VantaraPM Narendra Modi wildlife visitwildlife rescue and rehabilitationendangered lemursanimal welfare IndiaOtters in Vantara(Catch all the Business News, Breaking News, Budget 2025 Events and Latest News Updates on The Economic Times.) Subscribe to The Economic Times Prime and read the ET ePaper online....morelessPrime ExclusivesInvestment IdeasStock Report PlusePaperWealth EditionTata Group’s presence poised to open a new chapter in India’s aircraft financingWhy are Suzuki scooters leading the']]"
      ]
     },
     "execution_count": 24,
     "metadata": {},
     "output_type": "execute_result"
    }
   ],
   "source": [
    "results['documents']"
   ]
  },
  {
   "cell_type": "code",
   "execution_count": 25,
   "metadata": {},
   "outputs": [],
   "source": [
    "cross_inp = [[query, hit] for hit in results['documents'][0]]"
   ]
  },
  {
   "cell_type": "code",
   "execution_count": 26,
   "metadata": {},
   "outputs": [],
   "source": [
    "cross_scores = reranker.predict(cross_inp)"
   ]
  },
  {
   "cell_type": "code",
   "execution_count": 31,
   "metadata": {},
   "outputs": [],
   "source": [
    "import numpy as np\n",
    "indexes = np.where(cross_scores > 0)[0]"
   ]
  },
  {
   "cell_type": "code",
   "execution_count": 32,
   "metadata": {},
   "outputs": [
    {
     "data": {
      "text/plain": [
       "array([0, 1, 2, 3, 4])"
      ]
     },
     "execution_count": 32,
     "metadata": {},
     "output_type": "execute_result"
    }
   ],
   "source": [
    "indexes"
   ]
  },
  {
   "cell_type": "code",
   "execution_count": null,
   "metadata": {},
   "outputs": [],
   "source": [
    "hits = sorted(hits, key=lambda x: x[\"cross-encoder_score\"], reverse=True)"
   ]
  },
  {
   "cell_type": "code",
   "execution_count": 27,
   "metadata": {},
   "outputs": [
    {
     "data": {
      "text/plain": [
       "[['modi visit to vantara',\n",
       "  \"SizeAbcSmallAbcMediumAbcLargeSavePrintCommentSynopsisPrime Minister Narendra Modi's visit to Vantara highlighted his commitment to animal welfare. He interacted with endangered species like lemurs, flamingos, otters, pythons, orangutans, and a giant hippopotamus, reflecting the sanctuary's success in providing safe habitats for these creatures.ET SpecialPM Narendra Modi's visit to Vantara reflected his shared dedication to animal welfare and harmonious coexistence. During the visit, he encountered several rare species. Some images, of the Prime Minister exploring Vantara's wildlife.PM Modi nurtures endangered lemursET SpecialFacing the looming threat of extinction, these rare creatures have found a safe sanctuary in Anant Ambani’s Vantara. Here, they rest peacefully on PM Modi’s lap, reflecting a bond of trust and care.A different shade of Orange: Flamingos walk gracefully around PM ModiET SpecialPM Modi was thrilled to witness the flamboyance of flamingos as they gracefully walked\"],\n",
       " ['modi visit to vantara',\n",
       "  \"TrendsCanada NewsUK NewsUS NewsUAESaudi ArabiaBusinessWorld NewsMoreET ExplainsScienceSportsCompanyCorporate TrendsIndustryDecodedMorning Brief PodcastET EvokeEnvironmentVideosLatest NewsMost ReadMost SharedMost CommentedBusiness News›News›Company›Corporate Trends›Inside Anant Ambani’s Vantara: PM Narendra Modi’s journey through the world’s largest wildlife rescue & rehabilitation centre The Economic Times daily newspaper is available online now. Read Today's Paper Inside Anant Ambani’s Vantara: PM Narendra Modi’s journey through the world’s largest wildlife rescue & rehabilitation centreSECTIONSInside Anant Ambani’s Vantara: PM Narendra Modi’s journey through the world’s largest wildlife rescue & rehabilitation centreET SpecialLast Updated: Mar 04, 2025, 10:09:00 PM ISTRate StoryFollow usShareFont SizeAbcSmallAbcMediumAbcLargeSavePrintCommentSynopsisPrime Minister Narendra Modi's visit to Vantara highlighted his commitment to animal welfare. He interacted with endangered species like\"],\n",
       " ['modi visit to vantara',\n",
       "  \"Inside Anant Ambani’s Vantara: PM Narendra Modi’s journey through the world’s largest wildlife rescue & rehabilitation centre - The Economic TimesBenchmarks Nifty22,539.50202.21FEATURED FUNDS★★★★★Canara Robeco ELSS Tax Saver Regular - Growth5Y Return17.11 % Invest NowFEATURED FUNDS★★★★★HSBC Large Cap Fund Direct-Growth5Y Return15.69 % Invest NowEnter search text:NewsEnglish EditionEnglish Editionहिन्दीગુજરાતીमराठीবাংলাಕನ್ನಡമലയാളംதமிழ்తెలుగు | Today's ePaper My Watchlist SubscribeSign InHomeETPrimeMarketsMarket DataNewsIndustryRisePoliticsWealthMFTechCareersOpinionNRIPanacheLuxuryVideosMore MenuIndiaWeb StoriesEconomyAgricultureFinanceForeign TradeIndicatorsInfrastructurePolicyPoliticsNewsblogsElectionsAssembly ElectionsDelhiDefenceNationalInternationalIndustryInternationalNew ZealandGlobal TrendsCanada NewsUK NewsUS NewsUAESaudi ArabiaBusinessWorld NewsMoreET ExplainsScienceSportsCompanyCorporate TrendsIndustryDecodedMorning Brief PodcastET EvokeEnvironmentVideosLatest NewsMost\"],\n",
       " ['modi visit to vantara',\n",
       "  \"a bond of trust and care.A different shade of Orange: Flamingos walk gracefully around PM ModiET SpecialPM Modi was thrilled to witness the flamboyance of flamingos as they gracefully walked alongside him at Vantara. These flamingos were starving when Vantara rescued and offered them safe waters.Otters over the top!ET SpecialPM Modi at the giant otter habitat in Vantara where Baela is a mother of two otters named Kiran and Arjun. Some more glimpses from my visit to Vantara in Jamnagar. pic.twitter.com/QDkwLwdUod— Narendra Modi (@narendramodi) March 4, 2025 PM Modi visits the 'white beauty'Artificial Intelligence(AI)Java Programming with ChatGPT: Learn using Generative AIBy - Metla Sudha Sekhar, IT Specialist and DeveloperView Program Artificial Intelligence(AI)Basics of Generative AI: Unveiling Tomorrows InnovationsBy - Metla Sudha Sekhar, IT Specialist and DeveloperView Program Artificial Intelligence(AI)Generative AI for Dynamic Java Web Applications with ChatGPTBy - Metla Sudha\"],\n",
       " ['modi visit to vantara',\n",
       "  'can now subscribe to our Economic Times WhatsApp channel)Read More News onAnant Ambani VantaraPM Narendra Modi wildlife visitwildlife rescue and rehabilitationendangered lemursanimal welfare IndiaOtters in Vantara(Catch all the Business News, Breaking News, Budget 2025 Events and Latest News Updates on The Economic Times.) Subscribe to The Economic Times Prime and read the ET ePaper online....moreless(You can now subscribe to our Economic Times WhatsApp channel)Read More News onAnant Ambani VantaraPM Narendra Modi wildlife visitwildlife rescue and rehabilitationendangered lemursanimal welfare IndiaOtters in Vantara(Catch all the Business News, Breaking News, Budget 2025 Events and Latest News Updates on The Economic Times.) Subscribe to The Economic Times Prime and read the ET ePaper online....morelessPrime ExclusivesInvestment IdeasStock Report PlusePaperWealth EditionTata Group’s presence poised to open a new chapter in India’s aircraft financingWhy are Suzuki scooters leading the']]"
      ]
     },
     "execution_count": 27,
     "metadata": {},
     "output_type": "execute_result"
    }
   ],
   "source": [
    "cross_inp"
   ]
  },
  {
   "cell_type": "code",
   "execution_count": 28,
   "metadata": {},
   "outputs": [
    {
     "data": {
      "text/plain": [
       "array([9.501378 , 5.001235 , 4.377794 , 7.55329  , 6.7584667],\n",
       "      dtype=float32)"
      ]
     },
     "execution_count": 28,
     "metadata": {},
     "output_type": "execute_result"
    }
   ],
   "source": [
    "cross_scores"
   ]
  },
  {
   "cell_type": "code",
   "execution_count": null,
   "metadata": {},
   "outputs": [
    {
     "data": {
      "text/plain": [
       "[['to prevent rainwater from going to waste by conserving it where it falls. He praised the efforts of the women in Navsari, who have completed over 5,000 projects, including ponds, check dams, borewell recharge, and community soak pits, to save rainwater. He mentioned that hundreds of water conservation projects are still ongoing in Navsari, with the goal of constructing 1,000 percolation pits in a single day. Shri Modi acknowledged Navsari district as one of the leading districts in Gujarat for rainwater harvesting and water conservation, extending special congratulations to the mothers, sisters, and daughters of Navsari for their achievements in this area. “The strength of Gujarat’s women and their contributions are not limited to any one sector”, said Shri Modi, mentioning that 50% of seats in Gujarat’s panchayat elections were reserved for women. He remarked that when he was sent to Delhi as the Prime Minister, he brought the same experience and commitment to the nation. He noted',\n",
       "  'PM launches development works in Navsari, Gujarat | Prime Minister of India Skip to main content A- A A+ A A Search Search Language Choose a languageEnglishHindiAssameseBengaliGujaratiKannadaMalayalamManipuriMarathiOdiaPunjabiTamilTeluguUrdu Menu Home News News Updates Media Coverage Mann Ki Baat Prime Minister’s Office Message from the Prime Minister Quest for Transparency Right to Information (RTI) List of Officers (PMO) PM’s Interviews PM’s Funds PM National Relief Fund National Defence Fund PM CARES Fund PM’s Visits International Visits Domestic Visits Know Your Prime Minister Know the PM Former Prime Ministers Governance Track Record One Year Two Years Three Years Four Years Media Library Photo Gallery Watch Live/Videos PM’s Speeches PM’s Speeches (Videos) Infographics & Quotes Stalwarts Archive Social Media Updates Interact with PM Reports E-Books Portfolios of the Union Council of Ministers Download PMO Mobile App Close Menu HOME PMINDIA News Updates PM launches development',\n",
       "  'Archive Social Media Updates Interact with PM Reports E-Books Portfolios of the Union Council of Ministers Download PMO Mobile App Close Menu HOME PMINDIA News Updates PM launches development works in Navsari, Gujarat 08 Mar, 2025 PM launches development works in Navsari, Gujarat PM launches G-SAFAL and G-MAITRI programmes of the Government of Gujarat Women’s blessings are my strength, wealth and shield: PM India is now walking the path of women-led development: PM Our government places utmost importance on ‘Samman’ and ‘Suvidha’ for women: PM The soul of rural India resides in the empowerment of rural women: PM Nari Shakti is rising, surpassing every fear and doubt: PM In the past decade, we have given women’s safety the highest priority: PM Prime Minister Shri Narendra Modi launched various developmental works in Navsari, Gujarat today. Addressing the gathering on the occasion of International Women’s Day, he expressed his gratitude for the love, affection, and blessings from the',\n",
       "  'in Navsari district and interacted with the Lakhpati Didis. He also felicitated 5 Lakhpati Didis with Lakhpati Didi Certificates. The G-MAITRI scheme will provide financial assistance and handholding support to Startups which are working for creating a conducive environment for rural livelihoods. G-SAFAL will provide financial assistance and entrepreneurial training to SHG women of Antyodaya families in two Aspirational districts and thirteen Aspirational Blocks of Gujarat. Humbled to receive the blessings of our Nari Shakti in Navsari. Speaking at a programme during the launch of various initiatives. Do watch. https://t.co/zvrMBnB67J— Narendra Modi (@narendramodi) March 8, 2025 Women’s blessings are my strength, wealth and shield, says PM @narendramodi. pic.twitter.com/SB6tSism8V— PMO India (@PMOIndia) March 8, 2025 India is now walking the path of women-led development. pic.twitter.com/aCNi9pVF9c— PMO India (@PMOIndia) March 8, 2025 Our government places utmost importance on',\n",
       "  'developmental works in Navsari, Gujarat today. Addressing the gathering on the occasion of International Women’s Day, he expressed his gratitude for the love, affection, and blessings from the mothers, sisters, and daughters present in large numbers, extending his best wishes to all the women of the country on this special day. He added that he was blessed by Maa Ganga in the Maha Kumbh while he was blessed today in the Maha Kumbh of MatruShakti today. The Prime Minister highlighted the launch of two schemes, G-SAFAL (Gujarat scheme for Antyodaya Families for Augmenting Livelihoods) and G-MAITRI (Gujarat Mentorship and Acceleration of Individuals for Transforming Rural Income), today in Gujarat. He also mentioned that funds from various schemes have been directly transferred to the bank accounts of women and congratulated everyone for this achievement. Shri Modi mentioned that today was dedicated to women and expressed his gratitude to all and proudly stated that he considers himself']]"
      ]
     },
     "execution_count": 8,
     "metadata": {},
     "output_type": "execute_result"
    }
   ],
   "source": [
    "results['documents'][0]"
   ]
  },
  {
   "cell_type": "code",
   "execution_count": 5,
   "metadata": {},
   "outputs": [
    {
     "data": {
      "text/plain": [
       "{'ids': [['30', '20', '21', '40', '22']],\n",
       " 'embeddings': None,\n",
       " 'documents': [['to prevent rainwater from going to waste by conserving it where it falls. He praised the efforts of the women in Navsari, who have completed over 5,000 projects, including ponds, check dams, borewell recharge, and community soak pits, to save rainwater. He mentioned that hundreds of water conservation projects are still ongoing in Navsari, with the goal of constructing 1,000 percolation pits in a single day. Shri Modi acknowledged Navsari district as one of the leading districts in Gujarat for rainwater harvesting and water conservation, extending special congratulations to the mothers, sisters, and daughters of Navsari for their achievements in this area. “The strength of Gujarat’s women and their contributions are not limited to any one sector”, said Shri Modi, mentioning that 50% of seats in Gujarat’s panchayat elections were reserved for women. He remarked that when he was sent to Delhi as the Prime Minister, he brought the same experience and commitment to the nation. He noted',\n",
       "   'PM launches development works in Navsari, Gujarat | Prime Minister of India Skip to main content A- A A+ A A Search Search Language Choose a languageEnglishHindiAssameseBengaliGujaratiKannadaMalayalamManipuriMarathiOdiaPunjabiTamilTeluguUrdu Menu Home News News Updates Media Coverage Mann Ki Baat Prime Minister’s Office Message from the Prime Minister Quest for Transparency Right to Information (RTI) List of Officers (PMO) PM’s Interviews PM’s Funds PM National Relief Fund National Defence Fund PM CARES Fund PM’s Visits International Visits Domestic Visits Know Your Prime Minister Know the PM Former Prime Ministers Governance Track Record One Year Two Years Three Years Four Years Media Library Photo Gallery Watch Live/Videos PM’s Speeches PM’s Speeches (Videos) Infographics & Quotes Stalwarts Archive Social Media Updates Interact with PM Reports E-Books Portfolios of the Union Council of Ministers Download PMO Mobile App Close Menu HOME PMINDIA News Updates PM launches development',\n",
       "   'Archive Social Media Updates Interact with PM Reports E-Books Portfolios of the Union Council of Ministers Download PMO Mobile App Close Menu HOME PMINDIA News Updates PM launches development works in Navsari, Gujarat 08 Mar, 2025 PM launches development works in Navsari, Gujarat PM launches G-SAFAL and G-MAITRI programmes of the Government of Gujarat Women’s blessings are my strength, wealth and shield: PM India is now walking the path of women-led development: PM Our government places utmost importance on ‘Samman’ and ‘Suvidha’ for women: PM The soul of rural India resides in the empowerment of rural women: PM Nari Shakti is rising, surpassing every fear and doubt: PM In the past decade, we have given women’s safety the highest priority: PM Prime Minister Shri Narendra Modi launched various developmental works in Navsari, Gujarat today. Addressing the gathering on the occasion of International Women’s Day, he expressed his gratitude for the love, affection, and blessings from the',\n",
       "   'in Navsari district and interacted with the Lakhpati Didis. He also felicitated 5 Lakhpati Didis with Lakhpati Didi Certificates. The G-MAITRI scheme will provide financial assistance and handholding support to Startups which are working for creating a conducive environment for rural livelihoods. G-SAFAL will provide financial assistance and entrepreneurial training to SHG women of Antyodaya families in two Aspirational districts and thirteen Aspirational Blocks of Gujarat. Humbled to receive the blessings of our Nari Shakti in Navsari. Speaking at a programme during the launch of various initiatives. Do watch. https://t.co/zvrMBnB67J— Narendra Modi (@narendramodi) March 8, 2025 Women’s blessings are my strength, wealth and shield, says PM @narendramodi. pic.twitter.com/SB6tSism8V— PMO India (@PMOIndia) March 8, 2025 India is now walking the path of women-led development. pic.twitter.com/aCNi9pVF9c— PMO India (@PMOIndia) March 8, 2025 Our government places utmost importance on',\n",
       "   'developmental works in Navsari, Gujarat today. Addressing the gathering on the occasion of International Women’s Day, he expressed his gratitude for the love, affection, and blessings from the mothers, sisters, and daughters present in large numbers, extending his best wishes to all the women of the country on this special day. He added that he was blessed by Maa Ganga in the Maha Kumbh while he was blessed today in the Maha Kumbh of MatruShakti today. The Prime Minister highlighted the launch of two schemes, G-SAFAL (Gujarat scheme for Antyodaya Families for Augmenting Livelihoods) and G-MAITRI (Gujarat Mentorship and Acceleration of Individuals for Transforming Rural Income), today in Gujarat. He also mentioned that funds from various schemes have been directly transferred to the bank accounts of women and congratulated everyone for this achievement. Shri Modi mentioned that today was dedicated to women and expressed his gratitude to all and proudly stated that he considers himself']],\n",
       " 'uris': None,\n",
       " 'data': None,\n",
       " 'metadatas': [[None, None, None, None, None]],\n",
       " 'distances': [[0.46982299318305676,\n",
       "   0.4955660194617474,\n",
       "   0.5162718125311625,\n",
       "   0.5216934717527938,\n",
       "   0.557477957067346]],\n",
       " 'included': [<IncludeEnum.distances: 'distances'>,\n",
       "  <IncludeEnum.documents: 'documents'>,\n",
       "  <IncludeEnum.metadatas: 'metadatas'>]}"
      ]
     },
     "execution_count": 5,
     "metadata": {},
     "output_type": "execute_result"
    }
   ],
   "source": [
    "results"
   ]
  },
  {
   "cell_type": "code",
   "execution_count": 29,
   "metadata": {},
   "outputs": [
    {
     "name": "stdout",
     "output_type": "stream",
     "text": [
      "Help on CrossEncoder in module sentence_transformers.cross_encoder.CrossEncoder object:\n",
      "\n",
      "class CrossEncoder(transformers.utils.hub.PushToHubMixin)\n",
      " |  CrossEncoder(model_name: 'str', num_labels: 'int' = None, max_length: 'int' = None, device: 'str | None' = None, automodel_args: 'dict' = None, tokenizer_args: 'dict' = None, config_args: 'dict' = None, cache_dir: 'str' = None, trust_remote_code: 'bool' = False, revision: 'str | None' = None, local_files_only: 'bool' = False, default_activation_function=None, classifier_dropout: 'float' = None) -> 'None'\n",
      " |  \n",
      " |  A CrossEncoder takes exactly two sentences / texts as input and either predicts\n",
      " |  a score or label for this sentence pair. It can for example predict the similarity of the sentence pair\n",
      " |  on a scale of 0 ... 1.\n",
      " |  \n",
      " |  It does not yield a sentence embedding and does not work for individual sentences.\n",
      " |  \n",
      " |  Args:\n",
      " |      model_name (str): A model name from Hugging Face Hub that can be loaded with AutoModel, or a path to a local\n",
      " |          model. We provide several pre-trained CrossEncoder models that can be used for common tasks.\n",
      " |      num_labels (int, optional): Number of labels of the classifier. If 1, the CrossEncoder is a regression model that\n",
      " |          outputs a continuous score 0...1. If > 1, it output several scores that can be soft-maxed to get\n",
      " |          probability scores for the different classes. Defaults to None.\n",
      " |      max_length (int, optional): Max length for input sequences. Longer sequences will be truncated. If None, max\n",
      " |          length of the model will be used. Defaults to None.\n",
      " |      device (str, optional): Device that should be used for the model. If None, it will use CUDA if available.\n",
      " |          Defaults to None.\n",
      " |      automodel_args (Dict, optional): Arguments passed to AutoModelForSequenceClassification. Defaults to None.\n",
      " |      tokenizer_args (Dict, optional): Arguments passed to AutoTokenizer. Defaults to None.\n",
      " |      config_args (Dict, optional): Arguments passed to AutoConfig. Defaults to None.\n",
      " |      cache_dir (`str`, `Path`, optional): Path to the folder where cached files are stored.\n",
      " |      trust_remote_code (bool, optional): Whether or not to allow for custom models defined on the Hub in their own modeling files.\n",
      " |          This option should only be set to True for repositories you trust and in which you have read the code, as it\n",
      " |          will execute code present on the Hub on your local machine. Defaults to False.\n",
      " |      revision (Optional[str], optional): The specific model version to use. It can be a branch name, a tag name, or a commit id,\n",
      " |          for a stored model on Hugging Face. Defaults to None.\n",
      " |      local_files_only (bool, optional): If `True`, avoid downloading the model. Defaults to False.\n",
      " |      default_activation_function (Callable, optional): Callable (like nn.Sigmoid) about the default activation function that\n",
      " |          should be used on-top of model.predict(). If None. nn.Sigmoid() will be used if num_labels=1,\n",
      " |          else nn.Identity(). Defaults to None.\n",
      " |      classifier_dropout (float, optional): The dropout ratio for the classification head. Defaults to None.\n",
      " |  \n",
      " |  Method resolution order:\n",
      " |      CrossEncoder\n",
      " |      transformers.utils.hub.PushToHubMixin\n",
      " |      builtins.object\n",
      " |  \n",
      " |  Methods defined here:\n",
      " |  \n",
      " |  __init__(self, model_name: 'str', num_labels: 'int' = None, max_length: 'int' = None, device: 'str | None' = None, automodel_args: 'dict' = None, tokenizer_args: 'dict' = None, config_args: 'dict' = None, cache_dir: 'str' = None, trust_remote_code: 'bool' = False, revision: 'str | None' = None, local_files_only: 'bool' = False, default_activation_function=None, classifier_dropout: 'float' = None) -> 'None'\n",
      " |      Initialize self.  See help(type(self)) for accurate signature.\n",
      " |  \n",
      " |  fit(self, train_dataloader: 'DataLoader', evaluator: 'SentenceEvaluator' = None, epochs: 'int' = 1, loss_fct=None, activation_fct=Identity(), scheduler: 'str' = 'WarmupLinear', warmup_steps: 'int' = 10000, optimizer_class: 'type[Optimizer]' = <class 'torch.optim.adamw.AdamW'>, optimizer_params: 'dict[str, object]' = {'lr': 2e-05}, weight_decay: 'float' = 0.01, evaluation_steps: 'int' = 0, output_path: 'str' = None, save_best_model: 'bool' = True, max_grad_norm: 'float' = 1, use_amp: 'bool' = False, callback: 'Callable[[float, int, int], None]' = None, show_progress_bar: 'bool' = True) -> 'None'\n",
      " |      Train the model with the given training objective\n",
      " |      Each training objective is sampled in turn for one batch.\n",
      " |      We sample only as many batches from each objective as there are in the smallest one\n",
      " |      to make sure of equal training with each dataset.\n",
      " |      \n",
      " |      Args:\n",
      " |          train_dataloader (DataLoader): DataLoader with training InputExamples\n",
      " |          evaluator (SentenceEvaluator, optional): An evaluator (sentence_transformers.evaluation) evaluates the model performance during training on held-out dev data. It is used to determine the best model that is saved to disc. Defaults to None.\n",
      " |          epochs (int, optional): Number of epochs for training. Defaults to 1.\n",
      " |          loss_fct: Which loss function to use for training. If None, will use nn.BCEWithLogitsLoss() if self.config.num_labels == 1 else nn.CrossEntropyLoss(). Defaults to None.\n",
      " |          activation_fct: Activation function applied on top of logits output of model.\n",
      " |          scheduler (str, optional): Learning rate scheduler. Available schedulers: constantlr, warmupconstant, warmuplinear, warmupcosine, warmupcosinewithhardrestarts. Defaults to \"WarmupLinear\".\n",
      " |          warmup_steps (int, optional): Behavior depends on the scheduler. For WarmupLinear (default), the learning rate is increased from o up to the maximal learning rate. After these many training steps, the learning rate is decreased linearly back to zero. Defaults to 10000.\n",
      " |          optimizer_class (Type[Optimizer], optional): Optimizer. Defaults to torch.optim.AdamW.\n",
      " |          optimizer_params (Dict[str, object], optional): Optimizer parameters. Defaults to {\"lr\": 2e-5}.\n",
      " |          weight_decay (float, optional): Weight decay for model parameters. Defaults to 0.01.\n",
      " |          evaluation_steps (int, optional): If > 0, evaluate the model using evaluator after each number of training steps. Defaults to 0.\n",
      " |          output_path (str, optional): Storage path for the model and evaluation files. Defaults to None.\n",
      " |          save_best_model (bool, optional): If true, the best model (according to evaluator) is stored at output_path. Defaults to True.\n",
      " |          max_grad_norm (float, optional): Used for gradient normalization. Defaults to 1.\n",
      " |          use_amp (bool, optional): Use Automatic Mixed Precision (AMP). Only for Pytorch >= 1.6.0. Defaults to False.\n",
      " |          callback (Callable[[float, int, int], None], optional): Callback function that is invoked after each evaluation.\n",
      " |              It must accept the following three parameters in this order:\n",
      " |              `score`, `epoch`, `steps`. Defaults to None.\n",
      " |          show_progress_bar (bool, optional): If True, output a tqdm progress bar. Defaults to True.\n",
      " |  \n",
      " |  predict(self, sentences: 'list[tuple[str, str]] | list[list[str]] | tuple[str, str] | list[str]', batch_size: 'int' = 32, show_progress_bar: 'bool | None' = None, num_workers: 'int' = 0, activation_fct: 'Callable | None' = None, apply_softmax: 'bool | None' = False, convert_to_numpy: 'bool' = True, convert_to_tensor: 'bool' = False) -> 'list[torch.Tensor] | np.ndarray | torch.Tensor'\n",
      " |      Performs predictions with the CrossEncoder on the given sentence pairs.\n",
      " |      \n",
      " |      Args:\n",
      " |          sentences (Union[List[Tuple[str, str]], Tuple[str, str]]): A list of sentence pairs [(Sent1, Sent2), (Sent3, Sent4)]\n",
      " |              or one sentence pair (Sent1, Sent2).\n",
      " |          batch_size (int, optional): Batch size for encoding. Defaults to 32.\n",
      " |          show_progress_bar (bool, optional): Output progress bar. Defaults to None.\n",
      " |          num_workers (int, optional): Number of workers for tokenization. Defaults to 0.\n",
      " |          activation_fct (callable, optional): Activation function applied on the logits output of the CrossEncoder.\n",
      " |              If None, nn.Sigmoid() will be used if num_labels=1, else nn.Identity. Defaults to None.\n",
      " |          convert_to_numpy (bool, optional): Convert the output to a numpy matrix. Defaults to True.\n",
      " |          apply_softmax (bool, optional): If there are more than 2 dimensions and apply_softmax=True,\n",
      " |              applies softmax on the logits output. Defaults to False.\n",
      " |          convert_to_tensor (bool, optional): Convert the output to a tensor. Defaults to False.\n",
      " |      \n",
      " |      Returns:\n",
      " |          Union[List[float], np.ndarray, torch.Tensor]: Predictions for the passed sentence pairs.\n",
      " |          The return type depends on the `convert_to_numpy` and `convert_to_tensor` parameters.\n",
      " |          If `convert_to_tensor` is True, the output will be a torch.Tensor.\n",
      " |          If `convert_to_numpy` is True, the output will be a numpy.ndarray.\n",
      " |          Otherwise, the output will be a list of float values.\n",
      " |      \n",
      " |      Examples:\n",
      " |          ::\n",
      " |      \n",
      " |              from sentence_transformers import CrossEncoder\n",
      " |      \n",
      " |              model = CrossEncoder(\"cross-encoder/stsb-roberta-base\")\n",
      " |              sentences = [[\"I love cats\", \"Cats are amazing\"], [\"I prefer dogs\", \"Dogs are loyal\"]]\n",
      " |              model.predict(sentences)\n",
      " |              # => array([0.6912767, 0.4303499], dtype=float32)\n",
      " |  \n",
      " |  push_to_hub(self, repo_id: str, use_temp_dir: Optional[bool] = None, commit_message: Optional[str] = None, private: Optional[bool] = None, token: Union[bool, str, NoneType] = None, max_shard_size: Union[str, int, NoneType] = '5GB', create_pr: bool = False, safe_serialization: bool = True, revision: str = None, commit_description: str = None, tags: Optional[List[str]] = None, **deprecated_kwargs) -> str from transformers.utils.hub.PushToHubMixin\n",
      " |      Upload the {object_files} to the 🤗 Model Hub.\n",
      " |      \n",
      " |      Parameters:\n",
      " |          repo_id (`str`):\n",
      " |              The name of the repository you want to push your {object} to. It should contain your organization name\n",
      " |              when pushing to a given organization.\n",
      " |          use_temp_dir (`bool`, *optional*):\n",
      " |              Whether or not to use a temporary directory to store the files saved before they are pushed to the Hub.\n",
      " |              Will default to `True` if there is no directory named like `repo_id`, `False` otherwise.\n",
      " |          commit_message (`str`, *optional*):\n",
      " |              Message to commit while pushing. Will default to `\"Upload {object}\"`.\n",
      " |          private (`bool`, *optional*):\n",
      " |              Whether to make the repo private. If `None` (default), the repo will be public unless the organization's default is private. This value is ignored if the repo already exists.\n",
      " |          token (`bool` or `str`, *optional*):\n",
      " |              The token to use as HTTP bearer authorization for remote files. If `True`, will use the token generated\n",
      " |              when running `huggingface-cli login` (stored in `~/.huggingface`). Will default to `True` if `repo_url`\n",
      " |              is not specified.\n",
      " |          max_shard_size (`int` or `str`, *optional*, defaults to `\"5GB\"`):\n",
      " |              Only applicable for models. The maximum size for a checkpoint before being sharded. Checkpoints shard\n",
      " |              will then be each of size lower than this size. If expressed as a string, needs to be digits followed\n",
      " |              by a unit (like `\"5MB\"`). We default it to `\"5GB\"` so that users can easily load models on free-tier\n",
      " |              Google Colab instances without any CPU OOM issues.\n",
      " |          create_pr (`bool`, *optional*, defaults to `False`):\n",
      " |              Whether or not to create a PR with the uploaded files or directly commit.\n",
      " |          safe_serialization (`bool`, *optional*, defaults to `True`):\n",
      " |              Whether or not to convert the model weights in safetensors format for safer serialization.\n",
      " |          revision (`str`, *optional*):\n",
      " |              Branch to push the uploaded files to.\n",
      " |          commit_description (`str`, *optional*):\n",
      " |              The description of the commit that will be created\n",
      " |          tags (`List[str]`, *optional*):\n",
      " |              List of tags to push on the Hub.\n",
      " |      \n",
      " |      Examples:\n",
      " |      \n",
      " |      ```python\n",
      " |      from transformers import {object_class}\n",
      " |      \n",
      " |      {object} = {object_class}.from_pretrained(\"google-bert/bert-base-cased\")\n",
      " |      \n",
      " |      # Push the {object} to your namespace with the name \"my-finetuned-bert\".\n",
      " |      {object}.push_to_hub(\"my-finetuned-bert\")\n",
      " |      \n",
      " |      # Push the {object} to an organization with the name \"my-finetuned-bert\".\n",
      " |      {object}.push_to_hub(\"huggingface/my-finetuned-bert\")\n",
      " |      ```\n",
      " |  \n",
      " |  rank(self, query: 'str', documents: 'list[str]', top_k: 'int | None' = None, return_documents: 'bool' = False, batch_size: 'int' = 32, show_progress_bar: 'bool' = None, num_workers: 'int' = 0, activation_fct=None, apply_softmax=False, convert_to_numpy: 'bool' = True, convert_to_tensor: 'bool' = False) -> \"list[dict[Literal['corpus_id', 'score', 'text'], int | float | str]]\"\n",
      " |      Performs ranking with the CrossEncoder on the given query and documents. Returns a sorted list with the document indices and scores.\n",
      " |      \n",
      " |      Args:\n",
      " |          query (str): A single query.\n",
      " |          documents (List[str]): A list of documents.\n",
      " |          top_k (Optional[int], optional): Return the top-k documents. If None, all documents are returned. Defaults to None.\n",
      " |          return_documents (bool, optional): If True, also returns the documents. If False, only returns the indices and scores. Defaults to False.\n",
      " |          batch_size (int, optional): Batch size for encoding. Defaults to 32.\n",
      " |          show_progress_bar (bool, optional): Output progress bar. Defaults to None.\n",
      " |          num_workers (int, optional): Number of workers for tokenization. Defaults to 0.\n",
      " |          activation_fct ([type], optional): Activation function applied on the logits output of the CrossEncoder. If None, nn.Sigmoid() will be used if num_labels=1, else nn.Identity. Defaults to None.\n",
      " |          convert_to_numpy (bool, optional): Convert the output to a numpy matrix. Defaults to True.\n",
      " |          apply_softmax (bool, optional): If there are more than 2 dimensions and apply_softmax=True, applies softmax on the logits output. Defaults to False.\n",
      " |          convert_to_tensor (bool, optional): Convert the output to a tensor. Defaults to False.\n",
      " |      \n",
      " |      Returns:\n",
      " |          List[Dict[Literal[\"corpus_id\", \"score\", \"text\"], Union[int, float, str]]]: A sorted list with the \"corpus_id\", \"score\", and optionally \"text\" of the documents.\n",
      " |      \n",
      " |      Example:\n",
      " |          ::\n",
      " |      \n",
      " |              from sentence_transformers import CrossEncoder\n",
      " |              model = CrossEncoder(\"cross-encoder/ms-marco-MiniLM-L-6-v2\")\n",
      " |      \n",
      " |              query = \"Who wrote 'To Kill a Mockingbird'?\"\n",
      " |              documents = [\n",
      " |                  \"'To Kill a Mockingbird' is a novel by Harper Lee published in 1960. It was immediately successful, winning the Pulitzer Prize, and has become a classic of modern American literature.\",\n",
      " |                  \"The novel 'Moby-Dick' was written by Herman Melville and first published in 1851. It is considered a masterpiece of American literature and deals with complex themes of obsession, revenge, and the conflict between good and evil.\",\n",
      " |                  \"Harper Lee, an American novelist widely known for her novel 'To Kill a Mockingbird', was born in 1926 in Monroeville, Alabama. She received the Pulitzer Prize for Fiction in 1961.\",\n",
      " |                  \"Jane Austen was an English novelist known primarily for her six major novels, which interpret, critique and comment upon the British landed gentry at the end of the 18th century.\",\n",
      " |                  \"The 'Harry Potter' series, which consists of seven fantasy novels written by British author J.K. Rowling, is among the most popular and critically acclaimed books of the modern era.\",\n",
      " |                  \"'The Great Gatsby', a novel written by American author F. Scott Fitzgerald, was published in 1925. The story is set in the Jazz Age and follows the life of millionaire Jay Gatsby and his pursuit of Daisy Buchanan.\"\n",
      " |              ]\n",
      " |      \n",
      " |              model.rank(query, documents, return_documents=True)\n",
      " |      \n",
      " |          ::\n",
      " |      \n",
      " |              [{'corpus_id': 0,\n",
      " |              'score': 10.67858,\n",
      " |              'text': \"'To Kill a Mockingbird' is a novel by Harper Lee published in 1960. It was immediately successful, winning the Pulitzer Prize, and has become a classic of modern American literature.\"},\n",
      " |              {'corpus_id': 2,\n",
      " |              'score': 9.761677,\n",
      " |              'text': \"Harper Lee, an American novelist widely known for her novel 'To Kill a Mockingbird', was born in 1926 in Monroeville, Alabama. She received the Pulitzer Prize for Fiction in 1961.\"},\n",
      " |              {'corpus_id': 1,\n",
      " |              'score': -3.3099542,\n",
      " |              'text': \"The novel 'Moby-Dick' was written by Herman Melville and first published in 1851. It is considered a masterpiece of American literature and deals with complex themes of obsession, revenge, and the conflict between good and evil.\"},\n",
      " |              {'corpus_id': 5,\n",
      " |              'score': -4.8989105,\n",
      " |              'text': \"'The Great Gatsby', a novel written by American author F. Scott Fitzgerald, was published in 1925. The story is set in the Jazz Age and follows the life of millionaire Jay Gatsby and his pursuit of Daisy Buchanan.\"},\n",
      " |              {'corpus_id': 4,\n",
      " |              'score': -5.082967,\n",
      " |              'text': \"The 'Harry Potter' series, which consists of seven fantasy novels written by British author J.K. Rowling, is among the most popular and critically acclaimed books of the modern era.\"}]\n",
      " |  \n",
      " |  save(self, path: 'str', *, safe_serialization: 'bool' = True, **kwargs) -> 'None'\n",
      " |      Saves the model and tokenizer to path; identical to `save_pretrained`\n",
      " |  \n",
      " |  save_pretrained(self, path: 'str', *, safe_serialization: 'bool' = True, **kwargs) -> 'None'\n",
      " |      Saves the model and tokenizer to path; identical to `save`\n",
      " |  \n",
      " |  smart_batching_collate(self, batch: 'list[InputExample]') -> 'tuple[BatchEncoding, Tensor]'\n",
      " |  \n",
      " |  smart_batching_collate_text_only(self, batch: 'list[InputExample]') -> 'BatchEncoding'\n",
      " |  \n",
      " |  to(self, device: 'int | str | torch.device | None' = None) -> 'None'\n",
      " |  \n",
      " |  ----------------------------------------------------------------------\n",
      " |  Readonly properties defined here:\n",
      " |  \n",
      " |  device\n",
      " |  \n",
      " |  ----------------------------------------------------------------------\n",
      " |  Data descriptors inherited from transformers.utils.hub.PushToHubMixin:\n",
      " |  \n",
      " |  __dict__\n",
      " |      dictionary for instance variables\n",
      " |  \n",
      " |  __weakref__\n",
      " |      list of weak references to the object\n",
      "\n"
     ]
    }
   ],
   "source": [
    "help(reranker)"
   ]
  }
 ],
 "metadata": {
  "kernelspec": {
   "display_name": "py_3_11",
   "language": "python",
   "name": "python3"
  },
  "language_info": {
   "codemirror_mode": {
    "name": "ipython",
    "version": 3
   },
   "file_extension": ".py",
   "mimetype": "text/x-python",
   "name": "python",
   "nbconvert_exporter": "python",
   "pygments_lexer": "ipython3",
   "version": "3.11.11"
  }
 },
 "nbformat": 4,
 "nbformat_minor": 2
}
